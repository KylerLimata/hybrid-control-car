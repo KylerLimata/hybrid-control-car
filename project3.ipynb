{
 "cells": [
  {
   "cell_type": "markdown",
   "metadata": {},
   "source": [
    "# Hybrid Control Car\n",
    "\n",
    "# 1. Setup"
   ]
  },
  {
   "cell_type": "code",
   "execution_count": 2,
   "metadata": {},
   "outputs": [
    {
     "name": "stdout",
     "output_type": "stream",
     "text": [
      "<builtins.CarSimulation object at 0x0000015F66C56510>\n"
     ]
    }
   ],
   "source": [
    "import hybrid_control_car as hcc\n",
    "import numpy as np\n",
    "import scipy as sp\n",
    "import matplotlib.pyplot as plt\n",
    "\n",
    "# np.set_printoptions(precision=3)\n",
    "\n",
    "hz = 100 # Simulation steps per second\n",
    "dt = 0.01 # Seconds per simulation timestep\n",
    "units_per_meter = 100 # 1 unit = 1 cm\n",
    "nstates = 7 # Number of states in the system\n",
    "\n",
    "config = hcc.SimulationConfig()\n",
    "\n",
    "config.dt = dt\n",
    "config.units_per_meter = units_per_meter\n",
    "config.chassis_width = 1.3\n",
    "config.chassis_length = 1.8\n",
    "config.chassis_height = 0.6\n",
    "config.wheel_radius = 0.28\n",
    "config.chassis_density = 100.0\n",
    "config.wheel_density = 100.0\n",
    "config.axle_density = 100.0\n",
    "config.suspension_height = 0.12\n",
    "config.max_steering_angle = 0.7 # radians\n",
    "\n",
    "sim = hcc.CarSimulation(config)"
   ]
  }
 ],
 "metadata": {
  "kernelspec": {
   "display_name": "hybrid-control-car",
   "language": "python",
   "name": "python3"
  },
  "language_info": {
   "codemirror_mode": {
    "name": "ipython",
    "version": 3
   },
   "file_extension": ".py",
   "mimetype": "text/x-python",
   "name": "python",
   "nbconvert_exporter": "python",
   "pygments_lexer": "ipython3",
   "version": "3.12.4"
  }
 },
 "nbformat": 4,
 "nbformat_minor": 2
}
