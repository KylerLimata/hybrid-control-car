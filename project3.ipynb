{
 "cells": [
  {
   "cell_type": "markdown",
   "metadata": {},
   "source": [
    "# Hybrid Control Car\n",
    "\n",
    "# 1. Setup"
   ]
  },
  {
   "cell_type": "code",
   "execution_count": 1,
   "metadata": {},
   "outputs": [],
   "source": [
    "import hybrid_control_car as hcc\n",
    "import numpy as np\n",
    "import scipy as sp\n",
    "import matplotlib.pyplot as plt\n",
    "\n",
    "# np.set_printoptions(precision=3)\n",
    "\n",
    "hz = 100 # Simulation steps per second\n",
    "dt = 0.01 # Seconds per simulation timestep\n",
    "units_per_meter = 100 # 1 unit = 1 cm\n",
    "nstates = 6 # Number of states in the system\n",
    "\n",
    "config = hcc.SimulationConfig()\n",
    "\n",
    "config.dt = dt\n",
    "config.units_per_meter = units_per_meter\n",
    "config.chassis_width = 1.3\n",
    "config.chassis_length = 1.8\n",
    "config.chassis_height = 0.6\n",
    "config.wheel_radius = 0.28\n",
    "config.chassis_density = 100.0\n",
    "config.wheel_density = 100.0\n",
    "config.axle_density = 100.0\n",
    "config.suspension_height = 0.12\n",
    "config.max_steering_angle = 0.7 # radians\n",
    "\n",
    "sim = hcc.CarSimulation(config)"
   ]
  },
  {
   "cell_type": "markdown",
   "metadata": {},
   "source": [
    "Function for simulating"
   ]
  },
  {
   "cell_type": "code",
   "execution_count": 2,
   "metadata": {},
   "outputs": [],
   "source": [
    "def simulate_response(initial_state, inputs, nsteps, nstates, config: hcc.SimulationConfig):\n",
    "    sim = hcc.CarSimulation(config)\n",
    "    states = np.zeros((nsteps, nstates))\n",
    "    states[0, :] = initial_state\n",
    "\n",
    "    for t in range(0, nsteps - 1):\n",
    "        x0 = states[t, :]\n",
    "        u = inputs[t, :]\n",
    "        # x = hcc.simulate(x0, u, params)\n",
    "        x = sim.step(x0, u)\n",
    "        x = np.array(x)\n",
    "        states[t + 1, :] = x\n",
    "    \n",
    "    return states"
   ]
  },
  {
   "cell_type": "code",
   "execution_count": 3,
   "metadata": {},
   "outputs": [],
   "source": [
    "tf_debug = 1\n",
    "nsteps_debug = tf_debug*hz\n",
    "debug_inputs1 = np.vstack((\n",
    "    0.0*np.ones(nsteps_debug),\n",
    "    0.0*np.ones(nsteps_debug)\n",
    ")).T\n",
    "phi0 = 0\n",
    "x0 = np.array([0.0, 0.0, np.cos(phi0), np.sin(phi0), 0.0, 0.0])\n",
    "debug_states1 = simulate_response(x0, debug_inputs1, nsteps_debug, nstates, config)"
   ]
  }
 ],
 "metadata": {
  "kernelspec": {
   "display_name": "hybrid-control-car",
   "language": "python",
   "name": "python3"
  },
  "language_info": {
   "codemirror_mode": {
    "name": "ipython",
    "version": 3
   },
   "file_extension": ".py",
   "mimetype": "text/x-python",
   "name": "python",
   "nbconvert_exporter": "python",
   "pygments_lexer": "ipython3",
   "version": "3.12.4"
  }
 },
 "nbformat": 4,
 "nbformat_minor": 2
}
